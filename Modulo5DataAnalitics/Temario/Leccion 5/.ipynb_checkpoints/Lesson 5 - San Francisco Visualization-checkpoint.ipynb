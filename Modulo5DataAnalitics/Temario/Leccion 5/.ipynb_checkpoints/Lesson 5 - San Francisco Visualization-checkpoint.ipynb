{
 "cells": [
  {
   "cell_type": "code",
   "execution_count": null,
   "id": "b86462d9-f45a-4492-a159-3c5d8c57c691",
   "metadata": {},
   "outputs": [],
   "source": [
    "# Set up the parameters for the notebook\n",
    "csvpathfull = \"C:\\\\Users\\\\cberd\\\\Desktop\\\\Master\\\\Modulo5DataAnalitics\\\\Temario\\\\Leccion 5\\\\Datasets\\\\San Francisco Dataset\\\\Fire_Department_and_Emergency_Medical_Services_Dispatched_Calls_for_Service_20241230.csv\"\n",
    "csvpath1year = \"C:\\\\Users\\\\cberd\\\\Desktop\\\\Master\\\\Modulo5DataAnalitics\\\\Temario\\\\Leccion 5\\\\Datasets\\\\San Francisco Dataset\\\\Fire_Department_Calls_for_Service_1year.csv\"\n",
    "outcsvpath = \"C:\\\\Users\\\\cberd\\\\Desktop\\\\Master\\\\Modulo5DataAnalitics\\\\Temario\\\\Leccion 5\\\\Datasets\\\\San Francisco Dataset\\\\Fire_Department_Calls_for_Service_1year.csv\"\n",
    "# Choose whether to use the full dataset or only the last year\n",
    "csvpath=csvpath1year"
   ]
  },
  {
   "cell_type": "code",
   "execution_count": null,
   "id": "e92f7b72-0c55-4433-b46e-2924d5ff7ee4",
   "metadata": {},
   "outputs": [],
   "source": [
    "# Let us start reading the CSV\n",
    "import pandas as pd\n",
    "import numpy as np\n",
    "df_csv = pd.read_csv(csvpath, sep=\",\", low_memory=False)"
   ]
  },
  {
   "cell_type": "code",
   "execution_count": null,
   "id": "2531c359-3465-4045-b1cd-3d7111e11b49",
   "metadata": {},
   "outputs": [],
   "source": [
    "# And calculate the Time to Scene\n",
    "df_csv['TimeReceivedOnScene'] = pd.to_datetime(df_csv['On Scene DtTm'],format='%m/%d/%Y %I:%M:%S %p') - pd.to_datetime(df_csv['Received DtTm'],format='%m/%d/%Y %I:%M:%S %p')\n",
    "df_csv=df_csv[df_csv.TimeReceivedOnScene > pd.to_timedelta('0')]\n",
    "# We need to transform the time to minutes, hours or days in order to be able to plot it \n",
    "df_csv['TimeReceivedOnSceneInMinutes'] = df_csv['TimeReceivedOnScene']/np.timedelta64(1,'m')"
   ]
  },
  {
   "cell_type": "code",
   "execution_count": null,
   "id": "8c25140a-ae91-4f28-b851-8f3e2681fc6d",
   "metadata": {},
   "outputs": [],
   "source": [
    "# Let's analyze the aim of our first visualization:\n",
    "# Goal: Compare/Rank unit performance\n",
    "# Suggested: A) Bar chart B) Bubble graph. Since right now we only have one axis (Unit ID), we use A)\n",
    "import seaborn as sns\n",
    "\n",
    "# First, we calculate the values we are looking for\n",
    "# If we had a database, we could obtain these directly from a database query\n",
    "values=df_csv.groupby(['Unit ID'],as_index=False).agg({'TimeReceivedOnSceneInMinutes': pd.Series.mean})\n",
    "# Now, we create the chart, avoiding multiple colors by setting color=\"steelblue\"\n",
    "barplot = sns.barplot(data=values,x='Unit ID',y='TimeReceivedOnSceneInMinutes',color=\"steelblue\")\n",
    "barplot"
   ]
  },
  {
   "cell_type": "code",
   "execution_count": null,
   "id": "553fcbf7-2573-425b-b739-dbad625e7c3d",
   "metadata": {},
   "outputs": [],
   "source": [
    "# We can see that many units have a significantly higher time than the mean. We can do several things:\n",
    "# Filter, Group or Analyze the overall distribution\n",
    "# Let us start with filtering\n",
    "\n",
    "barplot = sns.barplot(data=values.sort_values('TimeReceivedOnSceneInMinutes').head(10),x='Unit ID',y='TimeReceivedOnSceneInMinutes',color=\"steelblue\")\n",
    "barplot"
   ]
  },
  {
   "cell_type": "code",
   "execution_count": null,
   "id": "8a92f4df-ef3c-46f7-a725-63123d2e3a08",
   "metadata": {},
   "outputs": [],
   "source": [
    "barplot = sns.barplot(data=values.sort_values('TimeReceivedOnSceneInMinutes').tail(10),x='Unit ID',y='TimeReceivedOnSceneInMinutes',color=\"steelblue\")\n",
    "barplot"
   ]
  },
  {
   "cell_type": "code",
   "execution_count": null,
   "id": "604d6d46-7a0d-4241-9940-904934ccac21",
   "metadata": {},
   "outputs": [],
   "source": [
    "# After we have tried filtering, let's try out grouping \n",
    "# By Unit Type\n",
    "# since names are relatively large, we use .tick_params(axis='x',rotation=value) to rotate the labels\n",
    "\n",
    "valuesbyUnitType=df_csv.groupby(['Unit Type'],as_index=False).agg({'TimeReceivedOnSceneInMinutes': pd.Series.mean})\n",
    "barplot = sns.barplot(data=valuesbyUnitType,x='Unit Type',y='TimeReceivedOnSceneInMinutes',color=\"steelblue\").tick_params(axis='x', rotation=45)\n",
    "barplot"
   ]
  },
  {
   "cell_type": "code",
   "execution_count": null,
   "id": "55e488d3-cc3c-4c18-9d8a-092c2ddb5a0c",
   "metadata": {},
   "outputs": [],
   "source": [
    "# By City\n",
    "\n",
    "valuesbyCity=df_csv.groupby(['City'],as_index=False).agg({'TimeReceivedOnSceneInMinutes': pd.Series.mean})\n",
    "barplot = sns.barplot(data=valuesbyCity,x='City',y='TimeReceivedOnSceneInMinutes',color=\"steelblue\").tick_params(axis='x', rotation=45)\n",
    "barplot"
   ]
  },
  {
   "cell_type": "code",
   "execution_count": null,
   "id": "90db6237-c577-4035-a780-bccbb333c901",
   "metadata": {},
   "outputs": [],
   "source": [
    "# By Priority of the call\n",
    "\n",
    "valuesbyPriority=df_csv.groupby(['Priority'],as_index=False).agg({'TimeReceivedOnSceneInMinutes': pd.Series.mean})\n",
    "barplot = sns.barplot(data=valuesbyPriority,x='Priority',y='TimeReceivedOnSceneInMinutes',color=\"steelblue\")\n",
    "barplot"
   ]
  },
  {
   "cell_type": "code",
   "execution_count": null,
   "id": "2dfe7621-1284-41bf-80e7-68e8a300ea42",
   "metadata": {},
   "outputs": [],
   "source": [
    "# If we wish to analyze the overall distribution we can use a histogram (histplot)\n",
    "# using the kde=True option we will obtain the distribution curve according to the frequency of values\n",
    "sns.histplot(df_csv['TimeReceivedOnSceneInMinutes'],kde=True)"
   ]
  },
  {
   "cell_type": "code",
   "execution_count": null,
   "id": "8fbf37c4-88ac-406e-a66b-cf715076dbdc",
   "metadata": {},
   "outputs": [],
   "source": [
    "# Does the average time to arrive change across the year?\n",
    "# Goal: Analyze evolution across time\n",
    "# Suggested: Line chart\n",
    "# First we need to group according to the week or month:\n",
    "df_csv['Call Month']=pd.to_datetime(df_csv['Call Date'],format='%m/%d/%Y').dt.month\n",
    "             \n",
    "# Then we can aggregate\n",
    "lineChartOverall = df_csv.groupby(df_csv['Call Month'], as_index=False).agg({'TimeReceivedOnSceneInMinutes': pd.Series.mean})   "
   ]
  },
  {
   "cell_type": "code",
   "execution_count": null,
   "id": "ecf383fa-459e-46dd-8100-40c5b35cad86",
   "metadata": {},
   "outputs": [],
   "source": [
    "# Finally, we plot the line chart.\n",
    "# If we want all elements to appear on the x axis we need to set the xticks\n",
    "import matplotlib.pyplot as plt\n",
    "sns.lineplot(data=lineChartOverall,x='Call Month',y='TimeReceivedOnSceneInMinutes',color=\"steelblue\")\\\n",
    ".set_xticks(range(len(lineChartOverall)))\n",
    "# To avoid distorsion we can alter the Y axis limits\n",
    "plt.ylim(0,13)"
   ]
  },
  {
   "cell_type": "code",
   "execution_count": null,
   "id": "8e5101d1-9788-49d7-bd1e-4f7499c31f4e",
   "metadata": {},
   "outputs": [],
   "source": [
    "# Alternatively, we can aggregate by Unit Type\n",
    "lineChartUnitType = df_csv.groupby(['Unit Type','Call Month'], as_index=False).agg({'TimeReceivedOnSceneInMinutes': pd.Series.mean})   "
   ]
  },
  {
   "cell_type": "code",
   "execution_count": null,
   "id": "fb8f471b-38a7-4ed9-813f-81b24713cdbb",
   "metadata": {},
   "outputs": [],
   "source": [
    "sns.lineplot(data=lineChartUnitType,x='Call Month',y='TimeReceivedOnSceneInMinutes',hue='Unit Type').set_xticks(range(len(lineChartOverall)))"
   ]
  },
  {
   "cell_type": "code",
   "execution_count": null,
   "id": "9fffa7d9-f0ef-47c5-88b8-a7eef817405a",
   "metadata": {},
   "outputs": [],
   "source": [
    "# Thid question: Have support units become quicker in all cities?\n",
    "# First we will need to filter the dataframe to support-type units only\n",
    "\n",
    "df_onlysupport = df_csv.query(\"`Unit Type` == 'SUPPORT'\")\n",
    "\n",
    "# Then, we can calculate the aggregates for each Unit ID, City and Call Month\n",
    "bubblegraphsupport = df_onlysupport.groupby(['Unit ID','City','Call Month'], as_index=False).agg({'TimeReceivedOnSceneInMinutes': pd.Series.mean})   "
   ]
  },
  {
   "cell_type": "code",
   "execution_count": null,
   "id": "a064b2b8-5842-43d3-a1a8-4757f48656b0",
   "metadata": {},
   "outputs": [],
   "source": [
    "bubbleplot = sns.scatterplot(data=bubblegraphsupport,x='Call Month',y='TimeReceivedOnSceneInMinutes', hue='City')"
   ]
  },
  {
   "cell_type": "code",
   "execution_count": null,
   "id": "66fe31fe-5d0a-46f9-a607-1e8a09eb9560",
   "metadata": {},
   "outputs": [],
   "source": [
    "bubblegraphsupportlessthan100 = df_onlysupport.query('TimeReceivedOnSceneInMinutes < 100').groupby(['Unit ID','City','Call Month'], as_index=False).agg({'TimeReceivedOnSceneInMinutes': pd.Series.mean})  \n",
    "bubbleplot = sns.scatterplot(data=bubblegraphsupportlessthan100,x='Call Month',y='TimeReceivedOnSceneInMinutes', hue='City')"
   ]
  },
  {
   "cell_type": "code",
   "execution_count": null,
   "id": "e2f5a0cd-6cf5-461a-8b16-233311372554",
   "metadata": {},
   "outputs": [],
   "source": [
    "bubblegraphunittypeneighborhood = df_csv.groupby(['Unit Type','Neighborhooods - Analysis Boundaries'],as_index=False).agg\\\n",
    "({'TimeReceivedOnSceneInMinutes': pd.Series.mean,'Call Number':pd.Series.nunique})"
   ]
  },
  {
   "cell_type": "code",
   "execution_count": null,
   "id": "32d55020",
   "metadata": {},
   "outputs": [],
   "source": [
    "sns.set(rc={\"figure.figsize\":(16, 8)})\n",
    "bubbleplot = sns.scatterplot(data=bubblegraphunittypeneighborhood,x='TimeReceivedOnSceneInMinutes',y='Neighborhooods - Analysis Boundaries', \\\n",
    "                             size='Call Number',hue='Unit Type', sizes=(100,800))"
   ]
  }
 ],
 "metadata": {
  "kernelspec": {
   "display_name": "profiling",
   "language": "python",
   "name": "profiling"
  },
  "language_info": {
   "codemirror_mode": {
    "name": "ipython",
    "version": 3
   },
   "file_extension": ".py",
   "mimetype": "text/x-python",
   "name": "python",
   "nbconvert_exporter": "python",
   "pygments_lexer": "ipython3",
   "version": "3.12.8"
  }
 },
 "nbformat": 4,
 "nbformat_minor": 5
}
