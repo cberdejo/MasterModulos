{
 "cells": [
  {
   "cell_type": "markdown",
   "metadata": {},
   "source": [
    "## Elbow calculation example"
   ]
  },
  {
   "cell_type": "markdown",
   "metadata": {},
   "source": [
    "### \"Optimal number of clusters for K-means clustering\""
   ]
  },
  {
   "cell_type": "code",
   "execution_count": 14,
   "metadata": {},
   "outputs": [],
   "source": [
    "import numpy as np\n",
    "import pandas as pd\n",
    "import matplotlib.pyplot as plt\n",
    "from sklearn.datasets import make_blobs\n",
    "from sklearn.cluster import KMeans\n",
    "import warnings\n",
    "warnings.filterwarnings('ignore')\n",
    "%matplotlib inline"
   ]
  },
  {
   "cell_type": "markdown",
   "metadata": {},
   "source": [
    "#### Answer the following question by providing Python code:"
   ]
  },
  {
   "cell_type": "code",
   "execution_count": 17,
   "metadata": {},
   "outputs": [
    {
     "data": {
      "text/plain": [
       "(150, 8)"
      ]
     },
     "execution_count": 17,
     "metadata": {},
     "output_type": "execute_result"
    }
   ],
   "source": [
    "# We will use simulated data.\n",
    "# 3 clusters in 8 dimensional space.\n",
    "# Hard to visualize!\n",
    "X, label = make_blobs(n_samples=150, n_features=8, centers=3, cluster_std = 2, random_state=123)\n",
    "X.shape"
   ]
  },
  {
   "cell_type": "markdown",
   "metadata": {},
   "source": [
    "1). Define a function that calculates the \"total internal sum of squares\".\n",
    "- X         :   Data.\n",
    "- centers   :   Array that contains the centroid coordinates. Calculated by kmeans.\n",
    "- clusters  :   Array of cluster labels. Calculated by kmeans. <br> <br>\n",
    "HINT: Implement the formula from the lecture note."
   ]
  },
  {
   "cell_type": "code",
   "execution_count": 20,
   "metadata": {},
   "outputs": [],
   "source": [
    "def total_internal_ss(X, centers, clusters):\n",
    "    N_clusters = centers.shape[0]\n",
    "    N_columns = centers.shape[1]\n",
    "    N_rows = X.shape[0]\n",
    "    closest_centers = np.zeros((N_rows, N_columns))\n",
    "    for n in range(N_clusters):\n",
    "        indices = (clusters == n)\n",
    "        for j in range(N_columns):\n",
    "            closest_centers[indices,j] = centers[n,j]             # This is the center (centroid) closest to the given observation.\n",
    "    return np.sum((X-closest_centers)**2.0)"
   ]
  },
  {
   "cell_type": "markdown",
   "metadata": {},
   "source": [
    "2). Visualize as a Scatter plot the \"total internal sum of squares\" vs N# of clusters. \n",
    "- Then, determine the optimal number of clusters.\n",
    "- Is this number the same as expected?"
   ]
  },
  {
   "cell_type": "code",
   "execution_count": 23,
   "metadata": {},
   "outputs": [],
   "source": [
    "n_cluster = np.array(range(2,10))                   # Array that contains the number of clusters.\n",
    "total_ss = np.array([])                             # Array that will contain the total internal sum of squares.\n",
    "for n in n_cluster:\n",
    "    kmeans = KMeans(n_clusters=n, n_init='auto')\n",
    "    clusters = kmeans.fit(X).labels_\n",
    "    centers = kmeans.cluster_centers_\n",
    "    total_ss = np.append(total_ss, total_internal_ss(X,centers,clusters))"
   ]
  },
  {
   "cell_type": "code",
   "execution_count": 25,
   "metadata": {},
   "outputs": [
    {
     "data": {
      "image/png": "[encoded data removed]",
      "text/plain": [
       "<Figure size 640x480 with 1 Axes>"
      ]
     },
     "metadata": {},
     "output_type": "display_data"
    }
   ],
   "source": [
    "plt.plot(n_cluster,total_ss,color='blue',marker='o',linestyle='dashed',linewidth=1,markersize=5)\n",
    "plt.show()"
   ]
  },
  {
   "cell_type": "code",
   "execution_count": null,
   "metadata": {},
   "outputs": [],
   "source": []
  },
  {
   "cell_type": "code",
   "execution_count": null,
   "metadata": {},
   "outputs": [],
   "source": []
  }
 ],
 "metadata": {
  "kernelspec": {
   "display_name": "Python [conda env:base] *",
   "language": "python",
   "name": "conda-base-py"
  },
  "language_info": {
   "codemirror_mode": {
    "name": "ipython",
    "version": 3
   },
   "file_extension": ".py",
   "mimetype": "text/x-python",
   "name": "python",
   "nbconvert_exporter": "python",
   "pygments_lexer": "ipython3",
   "version": "3.12.7"
  }
 },
 "nbformat": 4,
 "nbformat_minor": 4
}
