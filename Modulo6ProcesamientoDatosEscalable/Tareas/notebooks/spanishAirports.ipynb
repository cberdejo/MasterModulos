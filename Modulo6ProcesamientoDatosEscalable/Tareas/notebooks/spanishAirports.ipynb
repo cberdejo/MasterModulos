{
 "cells": [
  {
   "cell_type": "code",
   "execution_count": 39,
   "id": "14af566c-5436-4e06-931d-893cf07cd15d",
   "metadata": {},
   "outputs": [
    {
     "data": {
      "text/plain": [
       "'\\nReads the airports.csv file and counts the number of Spanish airports\\nfor each type, writing the results in a text file.\\n'"
      ]
     },
     "execution_count": 39,
     "metadata": {},
     "output_type": "execute_result"
    }
   ],
   "source": [
    "\n",
    "\"\"\"\n",
    "Reads the airports.csv file and counts the number of Spanish airports\n",
    "for each type, writing the results in a text file.\n",
    "\"\"\"\n",
    "   \n",
    " "
   ]
  },
  {
   "cell_type": "code",
   "execution_count": 41,
   "id": "f5ae83f1-383c-4be8-afdc-31608d483157",
   "metadata": {},
   "outputs": [],
   "source": [
    "from pyspark import SparkConf, SparkContext\n",
    "from pyspark.sql import SparkSession\n",
    "\n"
   ]
  },
  {
   "cell_type": "code",
   "execution_count": 43,
   "id": "739696d8-097f-4658-a3be-611e85504c8b",
   "metadata": {},
   "outputs": [],
   "source": [
    "# Configurar Spark\n",
    "\n",
    "spark = SparkSession.builder \\\n",
    "    .appName(\"MyApp\") \\\n",
    "    .config(\"spark.driver.memory\", \"4g\") \\\n",
    "    .config(\"spark.executor.memory\", \"4g\") \\\n",
    "    .getOrCreate()\n",
    "\n",
    "spark_context =  spark.sparkContext\n",
    "spark_context.setLogLevel(\"ERROR\")\n",
    "\n",
    "# Leer el archivo\n",
    "path_file = \"C:/Users/cberd/Downloads/airports.csv\"    "
   ]
  },
  {
   "cell_type": "code",
   "execution_count": 45,
   "id": "d9da65d2-b07e-4f6b-b169-48253dd82f52",
   "metadata": {},
   "outputs": [
    {
     "name": "stdout",
     "output_type": "stream",
     "text": [
      "['\"id\"', '\"ident\"', '\"type\"', '\"name\"', '\"latitude_deg\"', '\"longitude_deg\"', '\"elevation_ft\"', '\"continent\"', '\"iso_country\"', '\"iso_region\"', '\"municipality\"', '\"scheduled_service\"', '\"gps_code\"', '\"iata_code\"', '\"local_code\"', '\"home_link\"', '\"wikipedia_link\"', '\"keywords\"']\n"
     ]
    }
   ],
   "source": [
    "\n",
    "rdd = spark_context.textFile(path_file).cache()\n",
    "\n",
    "\n",
    "# Obtener la cabecera y limpiarla de comillas\n",
    "header = rdd.first() \n",
    "\n",
    "\n",
    "column_names = header.split(\",\")\n",
    "print(column_names)\n"
   ]
  },
  {
   "cell_type": "code",
   "execution_count": 47,
   "id": "975a2503-1495-4965-8690-ba751b46327f",
   "metadata": {},
   "outputs": [],
   "source": [
    "\n",
    "# Obtener los índices correctos\n",
    "\n",
    "index_iso_country = column_names.index('\"iso_country\"')\n",
    "index_type = column_names.index('\"type\"')\n",
    "\n",
    "\n",
    "\n"
   ]
  },
  {
   "cell_type": "code",
   "execution_count": 49,
   "id": "022cbfa7-0471-46b0-907e-56d231e703a8",
   "metadata": {},
   "outputs": [],
   "source": [
    "filtered_rdd = (\n",
    "    rdd\n",
    "    .filter(lambda row: row != header)  \n",
    "    .map(lambda row: row.split(\",\")) \n",
    "    .filter(lambda cols: cols[index_iso_country] == '\"ES\"')  \n",
    ")\n"
   ]
  },
  {
   "cell_type": "code",
   "execution_count": 51,
   "id": "82800659-54bb-4ca7-80aa-b4f19b389897",
   "metadata": {},
   "outputs": [
    {
     "name": "stdout",
     "output_type": "stream",
     "text": [
      "{'\"heliport\"': 161, '\"small_airport\"': 312, '\"closed\"': 31, '\"seaplane_base\"': 1, '\"medium_airport\"': 43, '\"balloonport\"': 1, '\"large_airport\"': 11}\n"
     ]
    }
   ],
   "source": [
    "# Mapear cada fila al tipo de aeropuerto como clave y contar\n",
    "type_counts = (\n",
    "    filtered_rdd\n",
    "    .map(lambda cols: (cols[index_type], 1))  # Crear pares clave-valor (type, 1)\n",
    "    .reduceByKey(lambda a, b: a + b)  # Sumar los valores por clave\n",
    "    .collect()  # Traer el resultado a Python\n",
    ")\n",
    "\n",
    "# Convertir el resultado en un diccionario para mejor visualización\n",
    "type_counts_dict = dict(type_counts)\n",
    "\n",
    "# Imprimir los conteos\n",
    "print(type_counts_dict)\n"
   ]
  },
  {
   "cell_type": "code",
   "execution_count": 54,
   "id": "0aa85cbd-da77-440b-a369-f66bfcaee57e",
   "metadata": {},
   "outputs": [],
   "source": [
    "# Guardar resultados en un archivo\n",
    "with open(\"result.txt\", \"w\") as file:\n",
    "    file.write(str(type_counts_dict))  \n",
    "\n",
    " \n",
    "spark_context.stop()"
   ]
  }
 ],
 "metadata": {
  "kernelspec": {
   "display_name": "Python [conda env:spark342]",
   "language": "python",
   "name": "conda-env-spark342-py"
  },
  "language_info": {
   "codemirror_mode": {
    "name": "ipython",
    "version": 3
   },
   "file_extension": ".py",
   "mimetype": "text/x-python",
   "name": "python",
   "nbconvert_exporter": "python",
   "pygments_lexer": "ipython3",
   "version": "3.9.21"
  }
 },
 "nbformat": 4,
 "nbformat_minor": 5
}
