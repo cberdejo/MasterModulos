{
 "cells": [
  {
   "cell_type": "code",
   "execution_count": 1,
   "id": "504cd536-afb4-4932-9a82-b1a47a25be31",
   "metadata": {},
   "outputs": [
    {
     "data": {
      "text/plain": [
       "'\\nTypically, data to be analyzed in real world applications is not fully clean. Frequently, there are missing fields, invalid values, etc.\\n\\n\\nA civil engineer is working in the design of a bridge, trying to find different alternatives, each of them having a total bridge weight \\nand the degree of deformation in certain parts (e.g., see http://ebesjmetal.sourceforge.net/problems.html). After using an optimization software,\\nshe/he has obtained a .txt file (attached to this task) with a number of rows indicating different trade-off designs. \\n\\n\\nUnfortunately, some lines/fields have invalid values (blank lines, missing values, characters instead of numbers, etc), and there are also repeteated lines.\\n\\nThis task consists in developing a Jupyter notebook with PySpark to read the file, remove all the invalid lines and remove those that are appears more than one time, and plot the clean data.\\n\\nThe deliverable will be the Jupyter notebook.\\n'"
      ]
     },
     "execution_count": 1,
     "metadata": {},
     "output_type": "execute_result"
    }
   ],
   "source": [
    "\"\"\"\n",
    "Typically, data to be analyzed in real world applications is not fully clean. Frequently, there are missing fields, invalid values, etc.\n",
    "\n",
    "\n",
    "A civil engineer is working in the design of a bridge, trying to find different alternatives, each of them having a total bridge weight \n",
    "and the degree of deformation in certain parts (e.g., see http://ebesjmetal.sourceforge.net/problems.html). After using an optimization software,\n",
    "she/he has obtained a .txt file (attached to this task) with a number of rows indicating different trade-off designs. \n",
    "\n",
    "\n",
    "Unfortunately, some lines/fields have invalid values (blank lines, missing values, characters instead of numbers, etc), and there are also repeteated lines.\n",
    "\n",
    "This task consists in developing a Jupyter notebook with PySpark to read the file, remove all the invalid lines and remove those that are appears more than one time, and plot the clean data.\n",
    "\n",
    "The deliverable will be the Jupyter notebook.\n",
    "\"\"\""
   ]
  },
  {
   "cell_type": "code",
   "execution_count": 2,
   "id": "e9e26825-ce95-4b3e-bac0-5b46fb29a3fe",
   "metadata": {},
   "outputs": [],
   "source": [
    "#imports\n",
    "from pyspark import SparkConf, SparkContext\n",
    "from pyspark.sql import SparkSession\n"
   ]
  },
  {
   "cell_type": "code",
   "execution_count": 3,
   "id": "710dbe12-746a-4344-94c8-0cacf52a09d7",
   "metadata": {},
   "outputs": [],
   "source": [
    "# Crear SparkSession\n",
    "spark_session = SparkSession.builder \\\n",
    "    .appName(\"cleanData\") \\\n",
    "    .getOrCreate()\n",
    "\n",
    "# Obtener SparkContext desde SparkSession\n",
    "spark_context = spark_session.sparkContext\n",
    "spark_context.setLogLevel(\"ERROR\")\n"
   ]
  },
  {
   "cell_type": "code",
   "execution_count": 4,
   "id": "cdeaec42-d49d-45fa-8ae0-697d96cebe2e",
   "metadata": {},
   "outputs": [],
   "source": [
    "#Lectura\n",
    "\n",
    "path_file = \"./data/bridge.csv\"\n",
    "rdd = spark_context.textFile(path_file)\n"
   ]
  },
  {
   "cell_type": "code",
   "execution_count": 5,
   "id": "34626deb-16a6-46cb-bf4f-1770f67a04e4",
   "metadata": {},
   "outputs": [],
   "source": [
    "# Función para verificar si un valor puede convertirse en float\n",
    "def is_float(value):\n",
    "    try:\n",
    "        float(value)  # Intenta convertir a float\n",
    "        return True\n",
    "    except ValueError:\n",
    "        return False\n"
   ]
  },
  {
   "cell_type": "code",
   "execution_count": 6,
   "id": "d702827e-e759-41c9-9ffc-fe781b367097",
   "metadata": {},
   "outputs": [
    {
     "data": {
      "text/plain": [
       "\" \\nPasos:\\n    1. Se eliminan las cabeceras\\n    2. Separamos cada fila por cada valor en columnas (usamos la ',' como separación)\\n    3. Evitamos las filas con longitud distinta de 2 y con un valor no númerico \\n        (tanto strings como valores vacíos) usando la función definida is_float\\n    4. Convertimos los valores a númericos (por si acaso, útil para la visualización luego)\\n        Además convertimos cada fila en una tupla (inmutable) nos servirá para luego obtener las filas únicas.\\n    5. Asegurars de que todos las filas  sean únicas\\n\""
      ]
     },
     "execution_count": 6,
     "metadata": {},
     "output_type": "execute_result"
    }
   ],
   "source": [
    "\"\"\" \n",
    "Pasos:\n",
    "    1. Se eliminan las cabeceras\n",
    "    2. Separamos cada fila por cada valor en columnas (usamos la ',' como separación)\n",
    "    3. Evitamos las filas con longitud distinta de 2 y con un valor no númerico \n",
    "        (tanto strings como valores vacíos) usando la función definida is_float\n",
    "    4. Convertimos los valores a númericos (por si acaso, útil para la visualización luego)\n",
    "        Además convertimos cada fila en una tupla (inmutable) nos servirá para luego obtener las filas únicas.\n",
    "    5. Asegurars de que todos las filas  sean únicas\n",
    "\"\"\""
   ]
  },
  {
   "cell_type": "code",
   "execution_count": 7,
   "id": "1a8c7241-9c07-4c86-bb1f-5b402c0da9a3",
   "metadata": {},
   "outputs": [],
   "source": [
    "# Obtener la cabecera\n",
    "header = rdd.first()\n",
    "\n",
    "rdd = rdd.filter(lambda line: line != header) \\\n",
    "    .map(lambda line: line.split(\",\")) \\\n",
    "    .filter(lambda line: len(line) == 2 and all(is_float(x.strip()) for x in line)) \\\n",
    "    .map(lambda line: tuple(float(x.strip()) for x in line))\\\n",
    "    .distinct()\n",
    "\n",
    "data = rdd.collect()"
   ]
  },
  {
   "cell_type": "code",
   "execution_count": null,
   "id": "ba466b3b-6b35-4a7f-9155-45102d563017",
   "metadata": {},
   "outputs": [],
   "source": [
    "#Gráfico:"
   ]
  },
  {
   "cell_type": "code",
   "execution_count": 8,
   "id": "b4df49b9-06d4-4a6e-896a-63711243602b",
   "metadata": {},
   "outputs": [],
   "source": [
    "import matplotlib.pyplot as plt"
   ]
  },
  {
   "cell_type": "code",
   "execution_count": 10,
   "id": "68cc619a-f8b0-4197-8012-0b00cc41b08a",
   "metadata": {},
   "outputs": [
    {
     "data": {
      "image/png": "[encoded data removed]",
      "text/plain": [
       "<Figure size 600x400 with 1 Axes>"
      ]
     },
     "metadata": {},
     "output_type": "display_data"
    }
   ],
   "source": [
    "\n",
    "# Separar valores en listas de X (Weight) y Y (Deformation)\n",
    "x_values = [row[0] for row in data]\n",
    "y_values = [row[1] for row in data]\n",
    "\n",
    "# Crear el gráfico\n",
    "plt.figure(figsize=(6, 4))\n",
    "plt.plot(x_values, y_values, 'r+', markersize=5)  # Puntos rojos con cruces ('+')\n",
    "\n",
    "# Configurar etiquetas y límites\n",
    "plt.xlim(min(x_values), max(x_values))\n",
    "plt.ylim(min(y_values), max(y_values))\n",
    "plt.xlabel(\"Weight\")\n",
    "plt.ylabel(\"Deformation\")\n",
    "\n",
    "\n",
    "\n",
    "# Mostrar el gráfico\n",
    "plt.show()\n"
   ]
  }
 ],
 "metadata": {
  "kernelspec": {
   "display_name": "spark342",
   "language": "python",
   "name": "python3"
  },
  "language_info": {
   "codemirror_mode": {
    "name": "ipython",
    "version": 3
   },
   "file_extension": ".py",
   "mimetype": "text/x-python",
   "name": "python",
   "nbconvert_exporter": "python",
   "pygments_lexer": "ipython3",
   "version": "3.9.21"
  }
 },
 "nbformat": 4,
 "nbformat_minor": 5
}
